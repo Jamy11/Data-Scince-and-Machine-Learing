{
 "cells": [
  {
   "cell_type": "code",
   "execution_count": 2,
   "id": "bcb363d2",
   "metadata": {},
   "outputs": [],
   "source": [
    "my_list = ['a','b','c','d']"
   ]
  },
  {
   "cell_type": "code",
   "execution_count": 3,
   "id": "b40c72cf",
   "metadata": {},
   "outputs": [
    {
     "name": "stdout",
     "output_type": "stream",
     "text": [
      "['a', 'b', 'c', 'd', 'v']\n"
     ]
    }
   ],
   "source": [
    "my_list.append('v')\n",
    "print(my_list)"
   ]
  },
  {
   "cell_type": "code",
   "execution_count": 4,
   "id": "da798225",
   "metadata": {},
   "outputs": [
    {
     "data": {
      "text/plain": [
       "'a'"
      ]
     },
     "execution_count": 4,
     "metadata": {},
     "output_type": "execute_result"
    }
   ],
   "source": [
    "my_list[0]"
   ]
  },
  {
   "cell_type": "code",
   "execution_count": 9,
   "id": "2c80e5e0",
   "metadata": {},
   "outputs": [],
   "source": [
    "nest = [1,2,3,0,[2,3,['target']]]"
   ]
  },
  {
   "cell_type": "code",
   "execution_count": 11,
   "id": "97a99d7e",
   "metadata": {},
   "outputs": [
    {
     "name": "stdout",
     "output_type": "stream",
     "text": [
      "target\n"
     ]
    }
   ],
   "source": [
    "print(nest[4][2][0])"
   ]
  },
  {
   "cell_type": "markdown",
   "id": "4cec4830",
   "metadata": {},
   "source": [
    "# Dictionaries "
   ]
  },
  {
   "cell_type": "code",
   "execution_count": 14,
   "id": "00f4e863",
   "metadata": {},
   "outputs": [
    {
     "name": "stdout",
     "output_type": "stream",
     "text": [
      "value\n"
     ]
    }
   ],
   "source": [
    "d = {'key':'value','2nditem':'another value','nestevalue':[1,2,3,4]}\n",
    "print(d['key'])"
   ]
  },
  {
   "cell_type": "code",
   "execution_count": 16,
   "id": "43154916",
   "metadata": {},
   "outputs": [
    {
     "name": "stdout",
     "output_type": "stream",
     "text": [
      "1\n"
     ]
    }
   ],
   "source": [
    "print(d['nestevalue'][0])"
   ]
  },
  {
   "cell_type": "code",
   "execution_count": 17,
   "id": "d31ba29f",
   "metadata": {},
   "outputs": [],
   "source": [
    "d2 = {'key':{'innerkey':[1.2,3,4,5]}}"
   ]
  },
  {
   "cell_type": "code",
   "execution_count": 18,
   "id": "c7ca8d29",
   "metadata": {},
   "outputs": [
    {
     "name": "stdout",
     "output_type": "stream",
     "text": [
      "1.2\n"
     ]
    }
   ],
   "source": [
    "print(d2['key']['innerkey'][0])"
   ]
  },
  {
   "cell_type": "markdown",
   "id": "870b8d11",
   "metadata": {},
   "source": [
    "# Tuple is immutable "
   ]
  },
  {
   "cell_type": "code",
   "execution_count": 26,
   "id": "ea9f4e1c",
   "metadata": {},
   "outputs": [],
   "source": [
    "tple = (1,2,4)"
   ]
  },
  {
   "cell_type": "code",
   "execution_count": 28,
   "id": "7b39863a",
   "metadata": {},
   "outputs": [
    {
     "name": "stdout",
     "output_type": "stream",
     "text": [
      "1\n"
     ]
    }
   ],
   "source": [
    "print(tple[0])"
   ]
  },
  {
   "cell_type": "code",
   "execution_count": 29,
   "id": "ea1a4358",
   "metadata": {},
   "outputs": [
    {
     "ename": "TypeError",
     "evalue": "'tuple' object does not support item assignment",
     "output_type": "error",
     "traceback": [
      "\u001b[0;31m---------------------------------------------------------------------------\u001b[0m",
      "\u001b[0;31mTypeError\u001b[0m                                 Traceback (most recent call last)",
      "\u001b[0;32m<ipython-input-29-bbb6577f6183>\u001b[0m in \u001b[0;36m<module>\u001b[0;34m\u001b[0m\n\u001b[0;32m----> 1\u001b[0;31m \u001b[0mtple\u001b[0m\u001b[0;34m[\u001b[0m\u001b[0;36m0\u001b[0m\u001b[0;34m]\u001b[0m \u001b[0;34m=\u001b[0m \u001b[0;36m5\u001b[0m\u001b[0;34m\u001b[0m\u001b[0;34m\u001b[0m\u001b[0m\n\u001b[0m",
      "\u001b[0;31mTypeError\u001b[0m: 'tuple' object does not support item assignment"
     ]
    }
   ],
   "source": [
    "tple[0] = 5"
   ]
  },
  {
   "cell_type": "markdown",
   "id": "844248ee",
   "metadata": {},
   "source": [
    "# Set dont have duplicate data"
   ]
  },
  {
   "cell_type": "code",
   "execution_count": 30,
   "id": "3180f493",
   "metadata": {},
   "outputs": [],
   "source": [
    "s = {1,1,1,1,1,1,1,1,2,3,}"
   ]
  },
  {
   "cell_type": "code",
   "execution_count": 31,
   "id": "95ece02e",
   "metadata": {},
   "outputs": [
    {
     "name": "stdout",
     "output_type": "stream",
     "text": [
      "{1, 2, 3}\n"
     ]
    }
   ],
   "source": [
    "print(s)"
   ]
  },
  {
   "cell_type": "code",
   "execution_count": 32,
   "id": "229de4c3",
   "metadata": {},
   "outputs": [
    {
     "name": "stdout",
     "output_type": "stream",
     "text": [
      "{1, 2, 3, 5}\n"
     ]
    }
   ],
   "source": [
    "s.add(5)\n",
    "print(s)"
   ]
  },
  {
   "cell_type": "markdown",
   "id": "49ae1e52",
   "metadata": {},
   "source": [
    "# list comprehension "
   ]
  },
  {
   "cell_type": "code",
   "execution_count": 33,
   "id": "c1ff9f39",
   "metadata": {},
   "outputs": [],
   "source": [
    "x = [1,2,3,4]"
   ]
  },
  {
   "cell_type": "code",
   "execution_count": 34,
   "id": "2c78d929",
   "metadata": {},
   "outputs": [
    {
     "name": "stdout",
     "output_type": "stream",
     "text": [
      "[1, 4, 9, 16]\n"
     ]
    }
   ],
   "source": [
    "out = []\n",
    "for item in x:\n",
    "    out.append(item**2)\n",
    "print(out)"
   ]
  },
  {
   "cell_type": "code",
   "execution_count": 35,
   "id": "4613da4c",
   "metadata": {},
   "outputs": [
    {
     "data": {
      "text/plain": [
       "[1, 4, 9, 16]"
      ]
     },
     "execution_count": 35,
     "metadata": {},
     "output_type": "execute_result"
    }
   ],
   "source": [
    "[item**2 for item in x]"
   ]
  },
  {
   "cell_type": "code",
   "execution_count": 37,
   "id": "6dea16f9",
   "metadata": {},
   "outputs": [
    {
     "name": "stdout",
     "output_type": "stream",
     "text": [
      "Hello my func\n"
     ]
    }
   ],
   "source": [
    "def my_func():\n",
    "    \"\"\"\n",
    "    Its s doc string.\n",
    "    can go multiple line; yay\n",
    "    \"\"\"\n",
    "    print('Hello my func')\n",
    "my_func()"
   ]
  },
  {
   "cell_type": "markdown",
   "id": "cb9d07be",
   "metadata": {},
   "source": [
    "# Introduction to map function"
   ]
  },
  {
   "cell_type": "code",
   "execution_count": 38,
   "id": "56408f93",
   "metadata": {},
   "outputs": [
    {
     "data": {
      "text/plain": [
       "[2, 4, 6, 8, 10]"
      ]
     },
     "execution_count": 38,
     "metadata": {},
     "output_type": "execute_result"
    }
   ],
   "source": [
    "def times2(num):\n",
    "    return num*2\n",
    "seq = [1,2,3,4,5]\n",
    "list(map(times2,seq))"
   ]
  },
  {
   "cell_type": "markdown",
   "id": "f64d7233",
   "metadata": {},
   "source": [
    "# Introduction to Lamda function"
   ]
  },
  {
   "cell_type": "code",
   "execution_count": 40,
   "id": "c92cc712",
   "metadata": {},
   "outputs": [
    {
     "data": {
      "text/plain": [
       "12"
      ]
     },
     "execution_count": 40,
     "metadata": {},
     "output_type": "execute_result"
    }
   ],
   "source": [
    "t = lambda var: var*2\n",
    "t(6)"
   ]
  },
  {
   "cell_type": "code",
   "execution_count": 41,
   "id": "91ba2bfa",
   "metadata": {},
   "outputs": [
    {
     "data": {
      "text/plain": [
       "[2, 4, 6, 8, 10]"
      ]
     },
     "execution_count": 41,
     "metadata": {},
     "output_type": "execute_result"
    }
   ],
   "source": [
    "seq = [1,2,3,4,5]\n",
    "list(map(lambda num: num*2,seq))"
   ]
  },
  {
   "cell_type": "markdown",
   "id": "bb48be69",
   "metadata": {},
   "source": [
    "# Introduction to filter function"
   ]
  },
  {
   "cell_type": "code",
   "execution_count": 42,
   "id": "dc72d88d",
   "metadata": {},
   "outputs": [
    {
     "data": {
      "text/plain": [
       "[2, 4]"
      ]
     },
     "execution_count": 42,
     "metadata": {},
     "output_type": "execute_result"
    }
   ],
   "source": [
    "seq = [1,2,3,4,5]\n",
    "list(filter(lambda num: num%2 == 0,seq))"
   ]
  },
  {
   "cell_type": "code",
   "execution_count": null,
   "id": "db4d2586",
   "metadata": {},
   "outputs": [],
   "source": []
  }
 ],
 "metadata": {
  "kernelspec": {
   "display_name": "Python 3",
   "language": "python",
   "name": "python3"
  },
  "language_info": {
   "codemirror_mode": {
    "name": "ipython",
    "version": 3
   },
   "file_extension": ".py",
   "mimetype": "text/x-python",
   "name": "python",
   "nbconvert_exporter": "python",
   "pygments_lexer": "ipython3",
   "version": "3.8.8"
  }
 },
 "nbformat": 4,
 "nbformat_minor": 5
}
